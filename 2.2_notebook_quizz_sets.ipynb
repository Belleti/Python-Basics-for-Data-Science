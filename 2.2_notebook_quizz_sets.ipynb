{
    "cells": [
        {
            "metadata": {},
            "cell_type": "markdown",
            "source": "<center>\n    <img src=\"https://s3-api.us-geo.objectstorage.softlayer.net/cf-courses-data/CognitiveClass/Logos/organization_logo/organization_logo.png\" width=\"300\" alt=\"cognitiveclass.ai logo\"  />\n</center>\n"
        },
        {
            "metadata": {},
            "cell_type": "markdown",
            "source": "<h3 align=center>List to Set </h3>\n"
        },
        {
            "metadata": {},
            "cell_type": "markdown",
            "source": "Cast the following list to a set:\n"
        },
        {
            "metadata": {},
            "cell_type": "code",
            "source": "lis=['A','B','C','A','B','C']\nS= set(lis)\nprint(S)",
            "execution_count": 10,
            "outputs": [
                {
                    "output_type": "stream",
                    "text": "{'A', 'B', 'C'}\n",
                    "name": "stdout"
                }
            ]
        },
        {
            "metadata": {},
            "cell_type": "markdown",
            "source": "<details><summary>Click here for the solution</summary>\n\n```python\nset(['A','B','C','A','B','C'])\n\n```\n\n</details>\n"
        },
        {
            "metadata": {},
            "cell_type": "markdown",
            "source": "<h3 align=center>Add an Element to the Set</h3> \n"
        },
        {
            "metadata": {},
            "cell_type": "markdown",
            "source": "Add the string  <code>'D'</code> to the set S\n"
        },
        {
            "metadata": {},
            "cell_type": "code",
            "source": "S={'A','B','C'}\nS.add('D')\nS",
            "execution_count": 13,
            "outputs": [
                {
                    "output_type": "execute_result",
                    "execution_count": 13,
                    "data": {
                        "text/plain": "{'A', 'B', 'C', 'D'}"
                    },
                    "metadata": {}
                }
            ]
        },
        {
            "metadata": {},
            "cell_type": "markdown",
            "source": "<details><summary>Click here for the solution</summary>\n\n```python\nS.add('D')\nS\n\n```\n\n</details>\n"
        },
        {
            "metadata": {},
            "cell_type": "markdown",
            "source": "<h3 align=center>Intersection</h3> \n"
        },
        {
            "metadata": {},
            "cell_type": "markdown",
            "source": "Find the intersection of set <code>A</code> and <code>B</code>\n"
        },
        {
            "metadata": {},
            "cell_type": "code",
            "source": "A={1,2,3,4,5}\nB={1,3,9, 12}\nA&B",
            "execution_count": 14,
            "outputs": [
                {
                    "output_type": "execute_result",
                    "execution_count": 14,
                    "data": {
                        "text/plain": "{1, 3}"
                    },
                    "metadata": {}
                }
            ]
        },
        {
            "metadata": {},
            "cell_type": "markdown",
            "source": "<details><summary>Click here for the solution</summary>\n\n```python\nA & B\n\n```\n\n</details>\n"
        },
        {
            "metadata": {},
            "cell_type": "markdown",
            "source": "<hr>\n\n<h3 align=\"center\"> \u00a9 IBM Corporation 2020. All rights reserved. <h3/>\n"
        }
    ],
    "metadata": {
        "kernelspec": {
            "name": "python3",
            "display_name": "Python 3.7",
            "language": "python"
        },
        "language_info": {
            "name": "python",
            "version": "3.7.9",
            "mimetype": "text/x-python",
            "codemirror_mode": {
                "name": "ipython",
                "version": 3
            },
            "pygments_lexer": "ipython3",
            "nbconvert_exporter": "python",
            "file_extension": ".py"
        }
    },
    "nbformat": 4,
    "nbformat_minor": 2
}