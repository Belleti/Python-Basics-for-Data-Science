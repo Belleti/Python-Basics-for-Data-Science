{
    "cells": [
        {
            "metadata": {},
            "cell_type": "markdown",
            "source": "<center>\n    <img src=\"https://s3-api.us-geo.objectstorage.softlayer.net/cf-courses-data/CognitiveClass/Logos/organization_logo/organization_logo.png\" width=\"300\" alt=\"cognitiveclass.ai logo\"  />\n</center>\n"
        },
        {
            "metadata": {},
            "cell_type": "markdown",
            "source": "<h3 align=center>Create a Tuple</h3>\n"
        },
        {
            "metadata": {},
            "cell_type": "markdown",
            "source": "create the  Tuple  <code> (0,1,2,3) </code> and assign it to the variable  <code> A </code>:\n"
        },
        {
            "metadata": {},
            "cell_type": "code",
            "source": "A=(0,1,2,3)\nprint(A)",
            "execution_count": 3,
            "outputs": [
                {
                    "output_type": "stream",
                    "text": "(0, 1, 2, 3)\n",
                    "name": "stdout"
                }
            ]
        },
        {
            "metadata": {},
            "cell_type": "markdown",
            "source": "<details><summary>Click here for the solution</summary>\n\n```python\nA = (0,1,2,3)\nprint(A)\n```\n\n</details>\n"
        },
        {
            "metadata": {},
            "cell_type": "markdown",
            "source": "<h3 align=center>Find the elements of a Tuple</h3> \n"
        },
        {
            "metadata": {},
            "cell_type": "markdown",
            "source": "Find the first two elements of the Tuple <code> A </code>:\n"
        },
        {
            "metadata": {},
            "cell_type": "code",
            "source": "A[:2]",
            "execution_count": 4,
            "outputs": [
                {
                    "output_type": "execute_result",
                    "execution_count": 4,
                    "data": {
                        "text/plain": "(0, 1)"
                    },
                    "metadata": {}
                }
            ]
        },
        {
            "metadata": {},
            "cell_type": "markdown",
            "source": "<details><summary>Click here for the solution</summary>\n\n```python\nA[0:2]\n```\n\n</details>\n"
        },
        {
            "metadata": {},
            "cell_type": "markdown",
            "source": "<h3 align=center>Lists </h3> \n"
        },
        {
            "metadata": {},
            "cell_type": "markdown",
            "source": "For the next few questions, you will need the following list:\n"
        },
        {
            "metadata": {},
            "cell_type": "code",
            "source": "B=[\"a\",\"b\",\"c\"]\nprint(B)",
            "execution_count": 8,
            "outputs": [
                {
                    "output_type": "stream",
                    "text": "['a', 'b', 'c']\n",
                    "name": "stdout"
                }
            ]
        },
        {
            "metadata": {},
            "cell_type": "markdown",
            "source": "Find the first two elements of the list <code> B</code>:\n"
        },
        {
            "metadata": {},
            "cell_type": "code",
            "source": "B[:2]",
            "execution_count": 9,
            "outputs": [
                {
                    "output_type": "execute_result",
                    "execution_count": 9,
                    "data": {
                        "text/plain": "['a', 'b']"
                    },
                    "metadata": {}
                }
            ]
        },
        {
            "metadata": {},
            "cell_type": "markdown",
            "source": "<details><summary>Click here for the solution</summary>\n\n```python\nB[0:2]\n```\n\n</details>\n"
        },
        {
            "metadata": {},
            "cell_type": "markdown",
            "source": "Change the first element of the list to an uppercase  <code> \"A\" </code> \n"
        },
        {
            "metadata": {},
            "cell_type": "code",
            "source": "B[0]=\"\"",
            "execution_count": null,
            "outputs": []
        },
        {
            "metadata": {},
            "cell_type": "markdown",
            "source": "<details><summary>Click here for the solution</summary>\n\n```python\nB[0] = 'A'\nprint(B)\n```\n\n</details>\n"
        },
        {
            "metadata": {},
            "cell_type": "markdown",
            "source": "<hr>\n\n<h3 align=\"center\"> \u00a9 IBM Corporation 2020. All rights reserved. <h3/>\n"
        }
    ],
    "metadata": {
        "kernelspec": {
            "name": "python3",
            "display_name": "Python 3.7",
            "language": "python"
        },
        "language_info": {
            "name": "python",
            "version": "3.7.9",
            "mimetype": "text/x-python",
            "codemirror_mode": {
                "name": "ipython",
                "version": 3
            },
            "pygments_lexer": "ipython3",
            "nbconvert_exporter": "python",
            "file_extension": ".py"
        }
    },
    "nbformat": 4,
    "nbformat_minor": 2
}