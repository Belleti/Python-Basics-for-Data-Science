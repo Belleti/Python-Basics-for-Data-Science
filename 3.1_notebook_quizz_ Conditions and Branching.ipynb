{
    "cells": [
        {
            "metadata": {},
            "cell_type": "markdown",
            "source": "# <center>\n    <img src=\"https://s3-api.us-geo.objectstorage.softlayer.net/cf-courses-data/CognitiveClass/Logos/organization_logo/organization_logo.png\" width=\"300\" alt=\"cognitiveclass.ai logo\"  />\n</center>\n"
        },
        {
            "metadata": {},
            "cell_type": "markdown",
            "source": "<h3 align=center>Comparison operations</h3> \n"
        },
        {
            "metadata": {},
            "cell_type": "markdown",
            "source": "Find the value of <code>i</code> that produces a <code>True</code> \n"
        },
        {
            "metadata": {},
            "cell_type": "code",
            "source": "i=1\ni!=0",
            "execution_count": 2,
            "outputs": [
                {
                    "output_type": "execute_result",
                    "execution_count": 2,
                    "data": {
                        "text/plain": "True"
                    },
                    "metadata": {}
                }
            ]
        },
        {
            "metadata": {},
            "cell_type": "markdown",
            "source": "<details><summary>Click here for the solution</summary>\n\n```python\ni = 1 \n\n#any value other than 0 will produce output as True\n```\n\n</details>\n"
        },
        {
            "metadata": {},
            "cell_type": "markdown",
            "source": "<h3 align=center>Branching </h3> \n"
        },
        {
            "metadata": {},
            "cell_type": "markdown",
            "source": "Find the value of <code>x</code> that prints the statement: <code>\"this is a\"</code>\n"
        },
        {
            "metadata": {},
            "cell_type": "code",
            "source": "x=\"a\"\nif(x=='a'):\n    print(\"this is a\")\nelse:\n    print(\"this is  not a\")",
            "execution_count": 3,
            "outputs": [
                {
                    "output_type": "stream",
                    "text": "this is a\n",
                    "name": "stdout"
                }
            ]
        },
        {
            "metadata": {},
            "cell_type": "markdown",
            "source": "<details><summary>Click here for the solution</summary>\n\n```python\nx = 'a'\n```\n\n</details>\n"
        },
        {
            "metadata": {},
            "cell_type": "markdown",
            "source": "<h3 align=center>Logic Operators</h3> \n"
        },
        {
            "metadata": {},
            "cell_type": "markdown",
            "source": "find the value of <code>y</code> that produces a <code>True</code> statement \n"
        },
        {
            "metadata": {},
            "cell_type": "code",
            "source": "y=\nx=1\nx>0 and y<10",
            "execution_count": null,
            "outputs": []
        },
        {
            "metadata": {},
            "cell_type": "markdown",
            "source": "<details><summary>Click here for the solution</summary>\n\n```python\ny = 0\n\n#any value less than 10 will produce output as True\n```\n\n</details>\n"
        },
        {
            "metadata": {},
            "cell_type": "markdown",
            "source": "<hr>\n\n<h3 align=\"center\"> \u00a9 IBM Corporation 2020. All rights reserved. <h3/>\n"
        }
    ],
    "metadata": {
        "kernelspec": {
            "name": "python3",
            "display_name": "Python 3.7",
            "language": "python"
        },
        "language_info": {
            "name": "python",
            "version": "3.7.9",
            "mimetype": "text/x-python",
            "codemirror_mode": {
                "name": "ipython",
                "version": 3
            },
            "pygments_lexer": "ipython3",
            "nbconvert_exporter": "python",
            "file_extension": ".py"
        }
    },
    "nbformat": 4,
    "nbformat_minor": 2
}