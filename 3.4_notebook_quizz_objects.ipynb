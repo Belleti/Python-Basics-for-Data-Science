{
    "cells": [
        {
            "metadata": {},
            "cell_type": "markdown",
            "source": "<center>\n    <img src=\"https://s3-api.us-geo.objectstorage.softlayer.net/cf-courses-data/CognitiveClass/Logos/organization_logo/organization_logo.png\" width=\"300\" alt=\"cognitiveclass.ai logo\"  />\n</center>\n"
        },
        {
            "metadata": {},
            "cell_type": "markdown",
            "source": "You will need the class Car for the next exercises. The class Car has four data attributes: make, model, colour and number of owners (owner_number). The method <code> car_info() </code>  prints out the data attributes and the method <code>sell()</code> increments the number of owners. \n"
        },
        {
            "metadata": {},
            "cell_type": "code",
            "source": "class Car(object):\n    def __init__(self,make,model,color):\n        self.make=make;\n        self.model=model;\n        self.color=color;\n        self.owner_number=0 \n    def car_info(self):\n        print(\"make: \",self.make)\n        print(\"model:\", self.model)\n        print(\"color:\",self.color)\n        print(\"number of owners:\",self.owner_number)\n    def sell(self):\n        self.owner_number=self.owner_number+1",
            "execution_count": 5,
            "outputs": []
        },
        {
            "metadata": {},
            "cell_type": "markdown",
            "source": "<h3> Create a Car object </h3>\n"
        },
        {
            "metadata": {},
            "cell_type": "markdown",
            "source": "Create a <code> Car </code> object my_car with the given data attributes: \n"
        },
        {
            "metadata": {},
            "cell_type": "code",
            "source": "make=\"BMW\"\nmodel=\"M3\"\ncolor=\"red\"\nmycar=Car(\"BMW\",\"M3\",\"red\")\n",
            "execution_count": 7,
            "outputs": []
        },
        {
            "metadata": {},
            "cell_type": "markdown",
            "source": "<details><summary>Click here for the solution</summary>\n\n```python\nmy_car = Car(make,model,color)\n    \n```\n\n</details>\n \n"
        },
        {
            "metadata": {},
            "cell_type": "markdown",
            "source": "<h3> Data Attributes </h3>\n"
        },
        {
            "metadata": {},
            "cell_type": "markdown",
            "source": "Use the method car_info() to print out the data attributes\n"
        },
        {
            "metadata": {},
            "cell_type": "code",
            "source": "mycar.car_info()\n",
            "execution_count": 8,
            "outputs": [
                {
                    "output_type": "stream",
                    "text": "make:  BMW\nmodel: M3\ncolor: red\nnumber of owners: 0\n",
                    "name": "stdout"
                }
            ]
        },
        {
            "metadata": {},
            "cell_type": "markdown",
            "source": "<details><summary>Click here for the solution</summary>\n\n```python\nmy_car.car_info()\n    \n```\n\n</details>\n \n"
        },
        {
            "metadata": {},
            "cell_type": "markdown",
            "source": "<h3> Methods  </h3>\n"
        },
        {
            "metadata": {},
            "cell_type": "markdown",
            "source": "Call the method <code> sell() </code> in the loop, then call the method <code> car_info()</code> again \n"
        },
        {
            "metadata": {},
            "cell_type": "code",
            "source": "for i in range(5):\n    mycar.sell()\nmycar.car_info()\n",
            "execution_count": 9,
            "outputs": [
                {
                    "output_type": "stream",
                    "text": "make:  BMW\nmodel: M3\ncolor: red\nnumber of owners: 5\n",
                    "name": "stdout"
                }
            ]
        },
        {
            "metadata": {},
            "cell_type": "markdown",
            "source": "<details><summary>Click here for the solution</summary>\n\n```python\nfor i in range(5):\n    my_car.sell()\n\nmy_car.car_info()\n    \n```\n\n</details>\n \n"
        },
        {
            "metadata": {},
            "cell_type": "markdown",
            "source": "<hr>\n\n<h3 align=\"center\"> \u00a9 IBM Corporation 2020. All rights reserved. <h3/>\n"
        }
    ],
    "metadata": {
        "kernelspec": {
            "name": "python3",
            "display_name": "Python 3.7",
            "language": "python"
        },
        "language_info": {
            "name": "python",
            "version": "3.7.9",
            "mimetype": "text/x-python",
            "codemirror_mode": {
                "name": "ipython",
                "version": 3
            },
            "pygments_lexer": "ipython3",
            "nbconvert_exporter": "python",
            "file_extension": ".py"
        }
    },
    "nbformat": 4,
    "nbformat_minor": 2
}