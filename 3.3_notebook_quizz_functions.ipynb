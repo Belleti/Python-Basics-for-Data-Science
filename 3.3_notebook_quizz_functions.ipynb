{
    "cells": [
        {
            "metadata": {},
            "cell_type": "markdown",
            "source": "<center>\n    <img src=\"https://s3-api.us-geo.objectstorage.softlayer.net/cf-courses-data/CognitiveClass/Logos/organization_logo/organization_logo.png\" width=\"300\" alt=\"cognitiveclass.ai logo\"  />\n</center>\n"
        },
        {
            "metadata": {},
            "cell_type": "markdown",
            "source": "<h3 align=center>Function</h3> \n"
        },
        {
            "metadata": {},
            "cell_type": "markdown",
            "source": "Complete the function <code> f </code> so that it returns the product of <code> a </code> and <code> b </code> , use the next cell to test the function\n"
        },
        {
            "metadata": {},
            "cell_type": "code",
            "source": "def f(a,b):\n    C= a*b\n    return C\n",
            "execution_count": 2,
            "outputs": []
        },
        {
            "metadata": {},
            "cell_type": "markdown",
            "source": "<details><summary>Click here for the solution</summary>\n\n```python\ndef f(a,b):\n    \n    return a*b\n    \n```\n\n</details>\n \n"
        },
        {
            "metadata": {},
            "cell_type": "markdown",
            "source": "Test the function using the next cell:\n"
        },
        {
            "metadata": {},
            "cell_type": "code",
            "source": "a=4\nb=2\n\nif a*b==f(a,b):   \n    print(\"correct\")   \nelse:    \n    print(\"incorrect\")",
            "execution_count": 3,
            "outputs": [
                {
                    "output_type": "stream",
                    "text": "correct\n",
                    "name": "stdout"
                }
            ]
        },
        {
            "metadata": {},
            "cell_type": "markdown",
            "source": "Complete the function <code> g </code> such that the input <code> c </code> is a list of integers and the output is the sum of all the elements in the list \n"
        },
        {
            "metadata": {},
            "cell_type": "code",
            "source": "def g(c):\n    len\n\n    return",
            "execution_count": null,
            "outputs": []
        },
        {
            "metadata": {},
            "cell_type": "markdown",
            "source": "<details><summary>Click here for the solution</summary>\n\n```python\ndef g(c):\n\n    return sum(c) \n    \n```\n\n</details>\n \n"
        },
        {
            "metadata": {},
            "cell_type": "markdown",
            "source": "Test the function using the next cell:\n"
        },
        {
            "metadata": {},
            "cell_type": "code",
            "source": "c=[1,2,3,4,5]\n\nif sum(c)==g(c):   \n    print(\"correct\")   \nelse:    \n    print(\"incorrect\")",
            "execution_count": null,
            "outputs": []
        },
        {
            "metadata": {},
            "cell_type": "markdown",
            "source": "<hr>\n\n<h3 align=\"center\"> \u00a9 IBM Corporation 2020. All rights reserved. <h3/>\n"
        }
    ],
    "metadata": {
        "kernelspec": {
            "name": "python3",
            "display_name": "Python 3.7",
            "language": "python"
        },
        "language_info": {
            "name": "python",
            "version": "3.7.9",
            "mimetype": "text/x-python",
            "codemirror_mode": {
                "name": "ipython",
                "version": 3
            },
            "pygments_lexer": "ipython3",
            "nbconvert_exporter": "python",
            "file_extension": ".py"
        }
    },
    "nbformat": 4,
    "nbformat_minor": 2
}