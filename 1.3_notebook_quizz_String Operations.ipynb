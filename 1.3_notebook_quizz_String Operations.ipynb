{
    "cells": [
        {
            "metadata": {},
            "cell_type": "markdown",
            "source": "<center>\n    <img src=\"https://s3-api.us-geo.objectstorage.softlayer.net/cf-courses-data/CognitiveClass/Logos/organization_logo/organization_logo.png\" width=\"300\" alt=\"cognitiveclass.ai logo\"  />\n</center>\n"
        },
        {
            "metadata": {},
            "cell_type": "markdown",
            "source": "<h3 align=center>Slicing </h3>\n"
        },
        {
            "metadata": {},
            "cell_type": "markdown",
            "source": "Use slicing to find the first four elements of the following string:\n"
        },
        {
            "metadata": {},
            "cell_type": "code",
            "source": "Letters=\"ABCDEFGHIJK\"\nLetters[:4]",
            "execution_count": 1,
            "outputs": [
                {
                    "output_type": "execute_result",
                    "execution_count": 1,
                    "data": {
                        "text/plain": "'ABCD'"
                    },
                    "metadata": {}
                }
            ]
        },
        {
            "metadata": {},
            "cell_type": "markdown",
            "source": "<details><summary>Click here for the solution</summary>\n\n```python\nLetters[0:4]\n```\n\n</details>\n"
        },
        {
            "metadata": {},
            "cell_type": "markdown",
            "source": "<h3 align=center>Strides are Good </h3> \n"
        },
        {
            "metadata": {},
            "cell_type": "markdown",
            "source": "Use a stride value of two on the following string :\n"
        },
        {
            "metadata": {},
            "cell_type": "code",
            "source": "Good=\"GsoAo+d\"\nGood[::2]",
            "execution_count": 2,
            "outputs": [
                {
                    "output_type": "execute_result",
                    "execution_count": 2,
                    "data": {
                        "text/plain": "'Good'"
                    },
                    "metadata": {}
                }
            ]
        },
        {
            "metadata": {},
            "cell_type": "markdown",
            "source": "<details><summary>Click here for the solution</summary>\n\n```python\nGood[::2]\n```\n\n</details>\n"
        },
        {
            "metadata": {},
            "cell_type": "markdown",
            "source": "<h3 align=center>uppercase to UPPERCASE </h3> \n"
        },
        {
            "metadata": {},
            "cell_type": "markdown",
            "source": "Convert the following string to uppercase using the method <code>upper()</code>\n"
        },
        {
            "metadata": {},
            "cell_type": "code",
            "source": "\"uppercase\"\nupper(uppercase)",
            "execution_count": null,
            "outputs": []
        },
        {
            "metadata": {},
            "cell_type": "markdown",
            "source": "<details><summary>Click here for the solution</summary>\n\n```python\n\"uppercase\".upper()\n```\n\n</details>\n"
        },
        {
            "metadata": {},
            "cell_type": "markdown",
            "source": "<hr>\n\n<h3 align=\"center\"> \u00a9 IBM Corporation 2020. All rights reserved. <h3/>\n"
        }
    ],
    "metadata": {
        "kernelspec": {
            "name": "python3",
            "display_name": "Python 3.7",
            "language": "python"
        },
        "language_info": {
            "name": "python",
            "version": "3.7.9",
            "mimetype": "text/x-python",
            "codemirror_mode": {
                "name": "ipython",
                "version": 3
            },
            "pygments_lexer": "ipython3",
            "nbconvert_exporter": "python",
            "file_extension": ".py"
        }
    },
    "nbformat": 4,
    "nbformat_minor": 2
}